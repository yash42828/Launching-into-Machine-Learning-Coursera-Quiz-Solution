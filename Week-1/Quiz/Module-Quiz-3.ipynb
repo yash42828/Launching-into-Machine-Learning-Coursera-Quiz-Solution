{
 "cells": [
  {
   "cell_type": "markdown",
   "metadata": {},
   "source": [
    "#### 1. True or False - In ML, you could train using all your data and decide not to hold out a test set and still get a good model"
   ]
  },
  {
   "cell_type": "markdown",
   "metadata": {},
   "source": [
    "##### Ans: True"
   ]
  },
  {
   "cell_type": "markdown",
   "metadata": {},
   "source": [
    "#### 2. You are tasked with splitting your dataset into 80% training and 20% evaluation for your ML model. Your partner wrote the below SQL script for you to use. Should you use it to create your datasets? Why or why not"
   ]
  },
  {
   "cell_type": "raw",
   "metadata": {},
   "source": [
    "#standardSQL\n",
    "WITH\n",
    "  alldata AS (\n",
    "  SELECT\n",
    "    IF (RAND() < 0.8,\n",
    "      'train',\n",
    "      'eval') AS dataset,\n",
    "    arrival_delay,\n",
    "    departure_delay\n",
    "  FROM\n",
    "    `bigquery-samples.airline_ontime_data.flights`\n",
    "  WHERE\n",
    "    departure_airport = 'DEN'\n",
    "    AND arrival_airport = 'LAX' ),\n",
    "  training AS (\n",
    "  SELECT\n",
    "    SAFE_DIVIDE( SUM(arrival_delay * departure_delay) , SUM(departure_delay * departure_delay)) AS alpha\n",
    "  FROM\n",
    "    alldata\n",
    "  WHERE\n",
    "    dataset = 'train' )"
   ]
  },
  {
   "cell_type": "markdown",
   "metadata": {},
   "source": [
    "##### Ans: No - the use of RAND(), even if only called once to divide the training and validation dataset, makes the experiment not repeatable for anyone else trying to start with the same datapoints. Consider using a hash function and a modulo operator instead. "
   ]
  },
  {
   "cell_type": "markdown",
   "metadata": {},
   "source": [
    "#### 3. What is a way to approximate or model real world unknown data? (choose all that apply)"
   ]
  },
  {
   "cell_type": "markdown",
   "metadata": {},
   "source": [
    "##### Ans: \n",
    "<ul>\n",
    "    <li>Split your dataset into separate buckets and train your model only on a portion of that dataset (keeping the rest as held out which will model unseen data)</li>\n",
    "    <li>Increase the breadth and quality of the data you have available. The better the data, the easier it will be for the model to learn. </li>\n",
    "</ul>"
   ]
  },
  {
   "cell_type": "markdown",
   "metadata": {},
   "source": [
    "#### 4. What's a recommended way to split your dataset in a repeatable fashion using SQL?"
   ]
  },
  {
   "cell_type": "markdown",
   "metadata": {},
   "source": [
    "##### Ans: Use a modulo operator and a hash function"
   ]
  },
  {
   "cell_type": "markdown",
   "metadata": {},
   "source": [
    "#### 5. Check all the common pitfalls for splitting a dataset even if done properly:"
   ]
  },
  {
   "cell_type": "markdown",
   "metadata": {},
   "source": [
    "##### Ans: \n",
    "<ul>\n",
    "    <li>You can no longer predict using the field you split the data on</li>\n",
    "    <li>You might not have enough data to split the dataset into training, validation, and testing</li>\n",
    "    <li>Your splitting field may not be noisy enough for granular divides of your dataset</li>\n",
    "</ul>"
   ]
  },
  {
   "cell_type": "markdown",
   "metadata": {},
   "source": [
    "#### 6. What can you do if your model passes validation but fails testing?\n",
    "\n",
    "#### (Select all 2 correct answers)"
   ]
  },
  {
   "cell_type": "markdown",
   "metadata": {},
   "source": [
    "##### Ans: \n",
    "<ul>\n",
    "    <li>Stop model training and work to collect new data points before trying the same model again</li>\n",
    "    <li>Start from the beginning with a brand new model type</li>\n",
    "</ul>"
   ]
  }
 ],
 "metadata": {
  "kernelspec": {
   "display_name": "Python 3",
   "language": "python",
   "name": "python3"
  },
  "language_info": {
   "codemirror_mode": {
    "name": "ipython",
    "version": 3
   },
   "file_extension": ".py",
   "mimetype": "text/x-python",
   "name": "python",
   "nbconvert_exporter": "python",
   "pygments_lexer": "ipython3",
   "version": "3.6.4"
  }
 },
 "nbformat": 4,
 "nbformat_minor": 2
}
